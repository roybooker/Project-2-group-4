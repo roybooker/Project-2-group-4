{
 "cells": [
  {
   "cell_type": "code",
   "execution_count": null,
   "id": "81afc45c",
   "metadata": {},
   "outputs": [],
   "source": []
  },
  {
   "cell_type": "code",
   "execution_count": null,
   "id": "a8b507a8",
   "metadata": {},
   "outputs": [],
   "source": [
    "# Import\n",
    "import pandas as pd\n",
    "import numpy as np\n",
    "import hvplot.pandas\n",
    "import lib\n",
    "from pathlib import Path\n",
    "\n",
    "from pandas.tseries.offsets import DateOffset\n",
    "\n",
    "# Setting these options will allow for reviewing more of the DataFrames\n",
    "pd.set_option('display.max_rows', 2000)\n",
    "pd.set_option('display.max_columns', 2000)\n",
    "pd.set_option('display.width', 1000)\n",
    "\n",
    "from sklearn import tree\n",
    "from sklearn.metrics import confusion_matrix, accuracy_score, classification_report"
   ]
  },
  {
   "cell_type": "code",
   "execution_count": null,
   "id": "7017c91e",
   "metadata": {},
   "outputs": [],
   "source": [
    "# Import the sp500 dataset into a Pandas Dataframe\n",
    "trading_df = pd.read_csv(\n",
    "    Path(\"../data/SP500_Data.csv\"), \n",
    "    index_col=\"Date\",\n",
    "    infer_datetime_format=True, \n",
    "    parse_dates=True\n",
    "    \n",
    ")\n",
    "# Review the DataFrame\n",
    "trading_df.head()"
   ]
  },
  {
   "cell_type": "code",
   "execution_count": null,
   "id": "8b079859",
   "metadata": {},
   "outputs": [],
   "source": [
    "# Calculate the daily returns using the closing prices and the pct_change function\n",
    "trading_df[\"actual_returns\"] = trading_df[\"Price\"].pct_change()\n",
    "\n",
    "# Drop all NaN values from the DataFrame\n",
    "trading_df = trading_df.dropna()"
   ]
  },
  {
   "cell_type": "code",
   "execution_count": null,
   "id": "8ebfb6dc",
   "metadata": {},
   "outputs": [],
   "source": [
    "# Read in CSV file in from the resources folder into a Pandas DataFrame\n",
    "# Set the date as the DateTimeIndex\n",
    "X_train = pd.read_csv(\n",
    "    Path(\"../data/X_train.csv\"), \n",
    "    index_col=\"Date\",\n",
    "    infer_datetime_format=True, \n",
    "    parse_dates=True\n",
    "    \n",
    ")\n",
    "\n",
    "# Review the DataFrame\n",
    "X_train.head()"
   ]
  },
  {
   "cell_type": "code",
   "execution_count": null,
   "id": "def3708b",
   "metadata": {},
   "outputs": [],
   "source": [
    "# Read in CSV file in from the resources folder into a Pandas DataFrame\n",
    "# Set the date as the DateTimeIndex\n",
    "X_test = pd.read_csv(\n",
    "    Path(\"../data/X_short_test.csv\"), \n",
    "    index_col=\"Date\",\n",
    "    infer_datetime_format=True, \n",
    "    parse_dates=True\n",
    "    \n",
    ")\n",
    "\n",
    "# Review the DataFrame\n",
    "X_test.head()\n"
   ]
  },
  {
   "cell_type": "code",
   "execution_count": null,
   "id": "5c9efcec",
   "metadata": {},
   "outputs": [],
   "source": [
    "# Read in CSV file in from the resources folder into a Pandas DataFrame\n",
    "# Set the date as the DateTimeIndex\n",
    "y_train = pd.read_csv(\n",
    "    Path(\"../data/y_train.csv\"), \n",
    "    index_col=\"Date\",\n",
    "    infer_datetime_format=True, \n",
    "    parse_dates=True\n",
    "    \n",
    ")\n",
    "\n",
    "# Review the DataFrame\n",
    "y_train.head()"
   ]
  },
  {
   "cell_type": "code",
   "execution_count": null,
   "id": "10abfcb0",
   "metadata": {},
   "outputs": [],
   "source": [
    "# Read in CSV file in from the resources folder into a Pandas DataFrame\n",
    "# Set the date as the DateTimeIndex\n",
    "y_test = pd.read_csv(\n",
    "    Path(\"../data/y_short_test.csv\"), \n",
    "    index_col=\"Date\",\n",
    "    infer_datetime_format=True, \n",
    "    parse_dates=True\n",
    "    \n",
    ")\n",
    "\n",
    "# Review the DataFrame\n",
    "y_test.head()"
   ]
  },
  {
   "cell_type": "code",
   "execution_count": null,
   "id": "4a1ca0cb",
   "metadata": {},
   "outputs": [],
   "source": [
    "# Import LogisticRegression from sklearn\n",
    "from sklearn.linear_model import LogisticRegression\n",
    "# Imports\n",
    "from sklearn.preprocessing import StandardScaler"
   ]
  },
  {
   "cell_type": "code",
   "execution_count": null,
   "id": "02884bcb",
   "metadata": {},
   "outputs": [],
   "source": [
    "# Create a StandardScaler instance\n",
    "scaler = StandardScaler()\n",
    " \n",
    "# Apply the scaler model to fit the X-train data\n",
    "X_scaler = scaler.fit(X_train)\n",
    " \n",
    "# Transform the X_train and X_test DataFrames using the X_scaler\n",
    "X_train_scaled = X_scaler.transform(X_train)\n",
    "X_test_scaled = X_scaler.transform(X_test)"
   ]
  },
  {
   "cell_type": "code",
   "execution_count": null,
   "id": "a875a76d",
   "metadata": {},
   "outputs": [],
   "source": [
    "dt_model = tree.DecisionTreeClassifier()\n",
    "dt_model.fit(X_train_scaled,y_train.values.ravel())\n",
    "pred = dt_model.predict(X_test_scaled)\n",
    "pred"
   ]
  },
  {
   "cell_type": "code",
   "execution_count": null,
   "id": "f0b15e59",
   "metadata": {},
   "outputs": [],
   "source": [
    "print(classification_report(y_test, pred))"
   ]
  },
  {
   "cell_type": "code",
   "execution_count": null,
   "id": "f43fecd1",
   "metadata": {},
   "outputs": [],
   "source": [
    "predictions = pd.DataFrame(index = X_test.index)\n",
    "predictions['Predicted'] = pred\n",
    "predictions['actual_returns'] = trading_df['actual_returns']\n",
    "predictions['Strategy Returns'] = (predictions['Predicted']) * predictions['actual_returns']"
   ]
  },
  {
   "cell_type": "code",
   "execution_count": null,
   "id": "c5eb8167",
   "metadata": {},
   "outputs": [],
   "source": [
    "predictions"
   ]
  },
  {
   "cell_type": "code",
   "execution_count": null,
   "id": "7e965f3c",
   "metadata": {},
   "outputs": [],
   "source": [
    "(1 + predictions[['actual_returns', 'Strategy Returns']]).cumprod().hvplot()"
   ]
  },
  {
   "cell_type": "code",
   "execution_count": null,
   "id": "9214a03b",
   "metadata": {},
   "outputs": [],
   "source": []
  }
 ],
 "metadata": {
  "kernelspec": {
   "display_name": "Python [conda env:nlpenv]",
   "language": "python",
   "name": "conda-env-nlpenv-py"
  },
  "language_info": {
   "codemirror_mode": {
    "name": "ipython",
    "version": 3
   },
   "file_extension": ".py",
   "mimetype": "text/x-python",
   "name": "python",
   "nbconvert_exporter": "python",
   "pygments_lexer": "ipython3",
   "version": "3.7.13"
  }
 },
 "nbformat": 4,
 "nbformat_minor": 5
}
